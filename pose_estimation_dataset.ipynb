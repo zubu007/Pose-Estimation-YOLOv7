{
 "cells": [
  {
   "cell_type": "code",
   "execution_count": 1,
   "metadata": {},
   "outputs": [],
   "source": [
    "import torch\n",
    "from torchvision import transforms\n",
    "\n",
    "from utils.datasets import letterbox\n",
    "from utils.general import non_max_suppression_kpt\n",
    "from utils.plots import output_to_keypoint, plot_skeleton_kpts\n",
    "\n",
    "import matplotlib.pyplot as plt\n",
    "import cv2\n",
    "import numpy as np\n",
    "import pandas as pd\n",
    "import os \n",
    "from tqdm import tqdm\n",
    "\n",
    "from pose_crop import PoseCrop"
   ]
  },
  {
   "cell_type": "code",
   "execution_count": 2,
   "metadata": {},
   "outputs": [],
   "source": [
    "def load_model():\n",
    "    device = torch.device(\"cuda:0\" if torch.cuda.is_available() else \"cpu\")\n",
    "    model = torch.load('yolov7-w6-pose.pt', map_location=device)['model']\n",
    "    # Put in inference mode\n",
    "    model.float().eval()\n",
    "\n",
    "    if torch.cuda.is_available():\n",
    "        # half() turns predictions into float16 tensors\n",
    "        # which significantly lowers inference time\n",
    "        model.half().to(device)\n",
    "    return model\n",
    "\n",
    "model = load_model()"
   ]
  },
  {
   "cell_type": "code",
   "execution_count": 12,
   "metadata": {},
   "outputs": [],
   "source": [
    "def run_inference(url):\n",
    "    image = cv2.imread(url) # shape: (480, 640, 3)\n",
    "    # Resize and pad image\n",
    "    image = letterbox(image, 960, stride=64, auto=True)[0] # shape: (768, 960, 3)\n",
    "    # Apply transforms\n",
    "    image = transforms.ToTensor()(image) # torch.Size([3, 768, 960])\n",
    "    # Turn image into batch\n",
    "    image = image.unsqueeze(0) # torch.Size([1, 3, 768, 960])\n",
    "    output, _ = model(image) # torch.Size([1, 45900, 57])\n",
    "    return output, image"
   ]
  },
  {
   "cell_type": "code",
   "execution_count": 4,
   "metadata": {},
   "outputs": [],
   "source": [
    "# read the dataset csv\n",
    "df = pd.read_csv('data_final.csv')"
   ]
  },
  {
   "cell_type": "code",
   "execution_count": 5,
   "metadata": {},
   "outputs": [
    {
     "data": {
      "text/plain": [
       "(9516,)"
      ]
     },
     "execution_count": 5,
     "metadata": {},
     "output_type": "execute_result"
    }
   ],
   "source": [
    "filenames = df['img'].values\n",
    "filenames.shape"
   ]
  },
  {
   "cell_type": "code",
   "execution_count": 6,
   "metadata": {},
   "outputs": [],
   "source": [
    "images_dir = '/Users/zubayer/codes/michiluki/images/'"
   ]
  },
  {
   "cell_type": "code",
   "execution_count": 13,
   "metadata": {},
   "outputs": [
    {
     "name": "stderr",
     "output_type": "stream",
     "text": [
      "  0%|          | 5/9516 [00:22<11:51:38,  4.49s/it]\n"
     ]
    },
    {
     "ename": "KeyboardInterrupt",
     "evalue": "",
     "output_type": "error",
     "traceback": [
      "\u001b[0;31m---------------------------------------------------------------------------\u001b[0m",
      "\u001b[0;31mKeyboardInterrupt\u001b[0m                         Traceback (most recent call last)",
      "\u001b[1;32m/Users/zubayer/codes/michiluki/YOLO_method/pose_estimation_dataset.ipynb Cell 7\u001b[0m in \u001b[0;36m<cell line: 10>\u001b[0;34m()\u001b[0m\n\u001b[1;32m     <a href='vscode-notebook-cell:/Users/zubayer/codes/michiluki/YOLO_method/pose_estimation_dataset.ipynb#W6sZmlsZQ%3D%3D?line=9'>10</a>\u001b[0m \u001b[39mfor\u001b[39;00m files \u001b[39min\u001b[39;00m tqdm(filenames):\n\u001b[1;32m     <a href='vscode-notebook-cell:/Users/zubayer/codes/michiluki/YOLO_method/pose_estimation_dataset.ipynb#W6sZmlsZQ%3D%3D?line=10'>11</a>\u001b[0m     url \u001b[39m=\u001b[39m os\u001b[39m.\u001b[39mpath\u001b[39m.\u001b[39mjoin(images_dir, files)\n\u001b[0;32m---> <a href='vscode-notebook-cell:/Users/zubayer/codes/michiluki/YOLO_method/pose_estimation_dataset.ipynb#W6sZmlsZQ%3D%3D?line=11'>12</a>\u001b[0m     output, image \u001b[39m=\u001b[39m run_inference(url)\n\u001b[1;32m     <a href='vscode-notebook-cell:/Users/zubayer/codes/michiluki/YOLO_method/pose_estimation_dataset.ipynb#W6sZmlsZQ%3D%3D?line=12'>13</a>\u001b[0m     \u001b[39m# Apply NMS\u001b[39;00m\n\u001b[1;32m     <a href='vscode-notebook-cell:/Users/zubayer/codes/michiluki/YOLO_method/pose_estimation_dataset.ipynb#W6sZmlsZQ%3D%3D?line=13'>14</a>\u001b[0m     output \u001b[39m=\u001b[39m non_max_suppression_kpt(output, \n\u001b[1;32m     <a href='vscode-notebook-cell:/Users/zubayer/codes/michiluki/YOLO_method/pose_estimation_dataset.ipynb#W6sZmlsZQ%3D%3D?line=14'>15</a>\u001b[0m                                      \u001b[39m0.25\u001b[39m, \u001b[39m# Confidence Threshold\u001b[39;00m\n\u001b[1;32m     <a href='vscode-notebook-cell:/Users/zubayer/codes/michiluki/YOLO_method/pose_estimation_dataset.ipynb#W6sZmlsZQ%3D%3D?line=15'>16</a>\u001b[0m                                      \u001b[39m0.65\u001b[39m, \u001b[39m# IoU Threshold\u001b[39;00m\n\u001b[1;32m     <a href='vscode-notebook-cell:/Users/zubayer/codes/michiluki/YOLO_method/pose_estimation_dataset.ipynb#W6sZmlsZQ%3D%3D?line=16'>17</a>\u001b[0m                                      nc\u001b[39m=\u001b[39mmodel\u001b[39m.\u001b[39myaml[\u001b[39m'\u001b[39m\u001b[39mnc\u001b[39m\u001b[39m'\u001b[39m], \u001b[39m# Number of Classes\u001b[39;00m\n\u001b[1;32m     <a href='vscode-notebook-cell:/Users/zubayer/codes/michiluki/YOLO_method/pose_estimation_dataset.ipynb#W6sZmlsZQ%3D%3D?line=17'>18</a>\u001b[0m                                      nkpt\u001b[39m=\u001b[39mmodel\u001b[39m.\u001b[39myaml[\u001b[39m'\u001b[39m\u001b[39mnkpt\u001b[39m\u001b[39m'\u001b[39m], \u001b[39m# Number of Keypoints\u001b[39;00m\n\u001b[1;32m     <a href='vscode-notebook-cell:/Users/zubayer/codes/michiluki/YOLO_method/pose_estimation_dataset.ipynb#W6sZmlsZQ%3D%3D?line=18'>19</a>\u001b[0m                                      kpt_label\u001b[39m=\u001b[39m\u001b[39mTrue\u001b[39;00m)\n",
      "\u001b[1;32m/Users/zubayer/codes/michiluki/YOLO_method/pose_estimation_dataset.ipynb Cell 7\u001b[0m in \u001b[0;36mrun_inference\u001b[0;34m(url)\u001b[0m\n\u001b[1;32m      <a href='vscode-notebook-cell:/Users/zubayer/codes/michiluki/YOLO_method/pose_estimation_dataset.ipynb#W6sZmlsZQ%3D%3D?line=6'>7</a>\u001b[0m \u001b[39m# Turn image into batch\u001b[39;00m\n\u001b[1;32m      <a href='vscode-notebook-cell:/Users/zubayer/codes/michiluki/YOLO_method/pose_estimation_dataset.ipynb#W6sZmlsZQ%3D%3D?line=7'>8</a>\u001b[0m image \u001b[39m=\u001b[39m image\u001b[39m.\u001b[39munsqueeze(\u001b[39m0\u001b[39m) \u001b[39m# torch.Size([1, 3, 768, 960])\u001b[39;00m\n\u001b[0;32m----> <a href='vscode-notebook-cell:/Users/zubayer/codes/michiluki/YOLO_method/pose_estimation_dataset.ipynb#W6sZmlsZQ%3D%3D?line=8'>9</a>\u001b[0m output, _ \u001b[39m=\u001b[39m model(image) \u001b[39m# torch.Size([1, 45900, 57])\u001b[39;00m\n\u001b[1;32m     <a href='vscode-notebook-cell:/Users/zubayer/codes/michiluki/YOLO_method/pose_estimation_dataset.ipynb#W6sZmlsZQ%3D%3D?line=9'>10</a>\u001b[0m \u001b[39mreturn\u001b[39;00m output, image\n",
      "File \u001b[0;32m~/miniforge3/envs/tensorflow/lib/python3.9/site-packages/torch/nn/modules/module.py:1194\u001b[0m, in \u001b[0;36mModule._call_impl\u001b[0;34m(self, *input, **kwargs)\u001b[0m\n\u001b[1;32m   1190\u001b[0m \u001b[39m# If we don't have any hooks, we want to skip the rest of the logic in\u001b[39;00m\n\u001b[1;32m   1191\u001b[0m \u001b[39m# this function, and just call forward.\u001b[39;00m\n\u001b[1;32m   1192\u001b[0m \u001b[39mif\u001b[39;00m \u001b[39mnot\u001b[39;00m (\u001b[39mself\u001b[39m\u001b[39m.\u001b[39m_backward_hooks \u001b[39mor\u001b[39;00m \u001b[39mself\u001b[39m\u001b[39m.\u001b[39m_forward_hooks \u001b[39mor\u001b[39;00m \u001b[39mself\u001b[39m\u001b[39m.\u001b[39m_forward_pre_hooks \u001b[39mor\u001b[39;00m _global_backward_hooks\n\u001b[1;32m   1193\u001b[0m         \u001b[39mor\u001b[39;00m _global_forward_hooks \u001b[39mor\u001b[39;00m _global_forward_pre_hooks):\n\u001b[0;32m-> 1194\u001b[0m     \u001b[39mreturn\u001b[39;00m forward_call(\u001b[39m*\u001b[39;49m\u001b[39minput\u001b[39;49m, \u001b[39m*\u001b[39;49m\u001b[39m*\u001b[39;49mkwargs)\n\u001b[1;32m   1195\u001b[0m \u001b[39m# Do not call functions when jit is used\u001b[39;00m\n\u001b[1;32m   1196\u001b[0m full_backward_hooks, non_full_backward_hooks \u001b[39m=\u001b[39m [], []\n",
      "File \u001b[0;32m~/codes/michiluki/YOLO_method/models/yolo.py:696\u001b[0m, in \u001b[0;36mModel.forward\u001b[0;34m(self, x, augment, profile)\u001b[0m\n\u001b[1;32m    694\u001b[0m     \u001b[39mreturn\u001b[39;00m torch\u001b[39m.\u001b[39mcat(y, \u001b[39m1\u001b[39m), \u001b[39mNone\u001b[39;00m  \u001b[39m# augmented inference, train\u001b[39;00m\n\u001b[1;32m    695\u001b[0m \u001b[39melse\u001b[39;00m:\n\u001b[0;32m--> 696\u001b[0m     \u001b[39mreturn\u001b[39;00m \u001b[39mself\u001b[39;49m\u001b[39m.\u001b[39;49mforward_once(x, profile)\n",
      "File \u001b[0;32m~/codes/michiluki/YOLO_method/models/yolo.py:722\u001b[0m, in \u001b[0;36mModel.forward_once\u001b[0;34m(self, x, profile)\u001b[0m\n\u001b[1;32m    719\u001b[0m         dt\u001b[39m.\u001b[39mappend((time_synchronized() \u001b[39m-\u001b[39m t) \u001b[39m*\u001b[39m \u001b[39m100\u001b[39m)\n\u001b[1;32m    720\u001b[0m         \u001b[39mprint\u001b[39m(\u001b[39m'\u001b[39m\u001b[39m%10.1f\u001b[39;00m\u001b[39m%10.0f\u001b[39;00m\u001b[39m%10.1f\u001b[39;00m\u001b[39mms \u001b[39m\u001b[39m%-40s\u001b[39;00m\u001b[39m'\u001b[39m \u001b[39m%\u001b[39m (o, m\u001b[39m.\u001b[39mnp, dt[\u001b[39m-\u001b[39m\u001b[39m1\u001b[39m], m\u001b[39m.\u001b[39mtype))\n\u001b[0;32m--> 722\u001b[0m     x \u001b[39m=\u001b[39m m(x)  \u001b[39m# run\u001b[39;00m\n\u001b[1;32m    724\u001b[0m     y\u001b[39m.\u001b[39mappend(x \u001b[39mif\u001b[39;00m m\u001b[39m.\u001b[39mi \u001b[39min\u001b[39;00m \u001b[39mself\u001b[39m\u001b[39m.\u001b[39msave \u001b[39melse\u001b[39;00m \u001b[39mNone\u001b[39;00m)  \u001b[39m# save output\u001b[39;00m\n\u001b[1;32m    726\u001b[0m \u001b[39mif\u001b[39;00m profile:\n",
      "File \u001b[0;32m~/miniforge3/envs/tensorflow/lib/python3.9/site-packages/torch/nn/modules/module.py:1194\u001b[0m, in \u001b[0;36mModule._call_impl\u001b[0;34m(self, *input, **kwargs)\u001b[0m\n\u001b[1;32m   1190\u001b[0m \u001b[39m# If we don't have any hooks, we want to skip the rest of the logic in\u001b[39;00m\n\u001b[1;32m   1191\u001b[0m \u001b[39m# this function, and just call forward.\u001b[39;00m\n\u001b[1;32m   1192\u001b[0m \u001b[39mif\u001b[39;00m \u001b[39mnot\u001b[39;00m (\u001b[39mself\u001b[39m\u001b[39m.\u001b[39m_backward_hooks \u001b[39mor\u001b[39;00m \u001b[39mself\u001b[39m\u001b[39m.\u001b[39m_forward_hooks \u001b[39mor\u001b[39;00m \u001b[39mself\u001b[39m\u001b[39m.\u001b[39m_forward_pre_hooks \u001b[39mor\u001b[39;00m _global_backward_hooks\n\u001b[1;32m   1193\u001b[0m         \u001b[39mor\u001b[39;00m _global_forward_hooks \u001b[39mor\u001b[39;00m _global_forward_pre_hooks):\n\u001b[0;32m-> 1194\u001b[0m     \u001b[39mreturn\u001b[39;00m forward_call(\u001b[39m*\u001b[39;49m\u001b[39minput\u001b[39;49m, \u001b[39m*\u001b[39;49m\u001b[39m*\u001b[39;49mkwargs)\n\u001b[1;32m   1195\u001b[0m \u001b[39m# Do not call functions when jit is used\u001b[39;00m\n\u001b[1;32m   1196\u001b[0m full_backward_hooks, non_full_backward_hooks \u001b[39m=\u001b[39m [], []\n",
      "File \u001b[0;32m~/codes/michiluki/YOLO_method/models/common.py:90\u001b[0m, in \u001b[0;36mConcat.forward\u001b[0;34m(self, x)\u001b[0m\n\u001b[1;32m     89\u001b[0m \u001b[39mdef\u001b[39;00m \u001b[39mforward\u001b[39m(\u001b[39mself\u001b[39m, x):\n\u001b[0;32m---> 90\u001b[0m     \u001b[39mreturn\u001b[39;00m torch\u001b[39m.\u001b[39;49mcat(x, \u001b[39mself\u001b[39;49m\u001b[39m.\u001b[39;49md)\n",
      "\u001b[0;31mKeyboardInterrupt\u001b[0m: "
     ]
    }
   ],
   "source": [
    "# create 5 empty pandas dataframes\n",
    "chest_df = pd.DataFrame(columns=['img', 'value'])\n",
    "hip_df = pd.DataFrame(columns=['img', 'value'])\n",
    "head_df = pd.DataFrame(columns=['img', 'hair_black', 'hair_red', 'hair_blonde'])\n",
    "eye_df = pd.DataFrame(columns=['img', 'value'])\n",
    "feet_df = pd.DataFrame(columns=['img', 'value'])\n",
    "\n",
    "ps = PoseCrop()\n",
    "\n",
    "for files in tqdm(filenames):\n",
    "    url = os.path.join(images_dir, files)\n",
    "    output, image = run_inference(url)\n",
    "    # Apply NMS\n",
    "    output = non_max_suppression_kpt(output, \n",
    "                                     0.25, # Confidence Threshold\n",
    "                                     0.65, # IoU Threshold\n",
    "                                     nc=model.yaml['nc'], # Number of Classes\n",
    "                                     nkpt=model.yaml['nkpt'], # Number of Keypoints\n",
    "                                     kpt_label=True)\n",
    "\n",
    "    with torch.no_grad():\n",
    "        output = output_to_keypoint(output)\n",
    "\n",
    "    nimg = image[0].permute(1, 2, 0) * 255\n",
    "    nimg = nimg.cpu().numpy().astype(np.uint8)\n",
    "\n",
    "    if len(output) > 1:\n",
    "        continue\n",
    "\n",
    "\n",
    "    chest_img = ps.get_chest_image(nimg, output)\n",
    "    hip_img = ps.get_hip_image(nimg, output)\n",
    "    head_img = ps.get_head_image(nimg, output)\n",
    "    eye_img = ps.get_eye_image(nimg, output)\n",
    "    left_foot_img, right_foot_img = ps.get_feet_image(nimg, output)\n",
    "\n",
    "    if chest_img is not None:\n",
    "        cv2.imwrite('dataset/chests/' + files, chest_img)\n",
    "        # check the value of img in df of 'object_naked' column\n",
    "        chest_value = df[df['img'] == files]['object_naked'].values[0]\n",
    "        # row = pd.DataFrame({'img': files, 'value': chest_value}, index=[0])\n",
    "        row = [files, chest_value]\n",
    "        # chest_df = chest_df.append({'img': files, 'value': chest_value})\n",
    "        chest_df.loc[len(chest_df)] = row\n",
    "\n",
    "    if hip_img is not None:\n",
    "        cv2.imwrite('dataset/hips/' + files, hip_img)\n",
    "        # check the value of img in df of 'object_naked' column\n",
    "        hip_value = df[df['img'] == files]['object_naked'].values[0]\n",
    "        row = [files, hip_value]\n",
    "        # hip_df = hip_df.append({'img': files, 'value': hip_value}, ignore_index=True)\n",
    "        hip_df.loc[len(hip_df)] = row\n",
    "\n",
    "    if head_img is not None:\n",
    "        cv2.imwrite('dataset/heads/' + files, head_img)\n",
    "        hair_black = df[df['img'] == files]['hair_black'].values[0]\n",
    "        hair_red = df[df['img'] == files]['hair_red'].values[0]\n",
    "        hair_blonde = df[df['img'] == files]['hair_blonde'].values[0]\n",
    "        row = [files, hair_black, hair_red, hair_blonde]\n",
    "        # head_df = head_df.append({'img': files, 'hair_black': hair_black, 'hair_red': hair_red, 'hair_blonde': hair_blonde}, ignore_index=True)\n",
    "        head_df.loc[len(head_df)] = row\n",
    "\n",
    "\n",
    "    if eye_img is not None:\n",
    "        cv2.imwrite('dataset/eyes/' + files, eye_img)\n",
    "        # check the value of img in df of 'object_glasses' column\n",
    "        eye_value = df[df['img'] == files]['object_glasses'].values[0]\n",
    "        row = [files, eye_value]\n",
    "        # eye_df = eye_df.append({'img': files, 'value': eye_value}, ignore_index=True)\n",
    "        eye_df.loc[len(eye_df)] = row\n",
    "\n",
    "    if left_foot_img is not None:\n",
    "        cv2.imwrite('dataset/feet/' + files, left_foot_img)\n",
    "        # check the value of img in df of 'object_heels' column\n",
    "        feet_value = df[df['img'] == files]['object_heels'].values[0]\n",
    "        file_name = files.replace('.', 'left.')\n",
    "        row = [file_name, feet_value]\n",
    "        # feet_df = feet_df.append({'img': file_name, 'value': feet_value}, ignore_index=True)\n",
    "        feet_df.loc[len(feet_df)] = row\n",
    "\n",
    "    if right_foot_img is not None:\n",
    "        cv2.imwrite('dataset/feet/' + files, right_foot_img)\n",
    "        # check the value of img in df of 'object_heels' column\n",
    "        feet_value = df[df['img'] == files]['object_heels'].values[0]\n",
    "        file_name = files.replace('.', 'right.')\n",
    "        row = [file_name, feet_value]\n",
    "        # feet_df = feet_df.append(row, ignore_index=True)\n",
    "        feet_df.loc[len(feet_df)] = row\n",
    "        \n",
    "\n",
    "chest_df.to_csv('dataset/chest.csv', index=False)\n",
    "hip_df.to_csv('dataset/hip.csv', index=False)\n",
    "head_df.to_csv('dataset/head.csv', index=False)\n",
    "eye_df.to_csv('dataset/eye.csv', index=False)\n",
    "feet_df.to_csv('dataset/feet.csv', index=False)\n",
    "\n",
    "\n",
    "\n"
   ]
  },
  {
   "cell_type": "code",
   "execution_count": 10,
   "metadata": {},
   "outputs": [
    {
     "data": {
      "text/plain": [
       "array([], shape=(0, 243, 3), dtype=uint8)"
      ]
     },
     "execution_count": 10,
     "metadata": {},
     "output_type": "execute_result"
    }
   ],
   "source": [
    "left_foot_img"
   ]
  },
  {
   "cell_type": "code",
   "execution_count": null,
   "metadata": {},
   "outputs": [],
   "source": [
    "output, image = run_inference('/Users/zubayer/codes/michiluki/images/2022-09-12_11-19-43_UTC_1.jpg')\n",
    "\n",
    "output = non_max_suppression_kpt(output, \n",
    "                                     0.25, # Confidence Threshold\n",
    "                                     0.65, # IoU Threshold\n",
    "                                     nc=model.yaml['nc'], # Number of Classes\n",
    "                                     nkpt=model.yaml['nkpt'], # Number of Keypoints\n",
    "                                     kpt_label=True)\n",
    "\n",
    "with torch.no_grad():\n",
    "    output = output_to_keypoint(output)\n",
    "\n",
    "nimg = image[0].permute(1, 2, 0) * 255\n",
    "nimg = nimg.cpu().numpy().astype(np.uint8)"
   ]
  }
 ],
 "metadata": {
  "kernelspec": {
   "display_name": "tensorflow",
   "language": "python",
   "name": "python3"
  },
  "language_info": {
   "codemirror_mode": {
    "name": "ipython",
    "version": 3
   },
   "file_extension": ".py",
   "mimetype": "text/x-python",
   "name": "python",
   "nbconvert_exporter": "python",
   "pygments_lexer": "ipython3",
   "version": "3.9.13"
  },
  "orig_nbformat": 4,
  "vscode": {
   "interpreter": {
    "hash": "0c40cb238d1a3dd5f44c194a439186a7c086f9f7e423506e3795eda98e60bf43"
   }
  }
 },
 "nbformat": 4,
 "nbformat_minor": 2
}
